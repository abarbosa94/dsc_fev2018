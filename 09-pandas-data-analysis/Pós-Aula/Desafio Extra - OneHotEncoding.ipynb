{
 "cells": [
  {
   "cell_type": "markdown",
   "metadata": {},
   "source": [
    "# Desafio Extra - OneHotEncoding"
   ]
  },
  {
   "cell_type": "markdown",
   "metadata": {},
   "source": [
    "___"
   ]
  },
  {
   "cell_type": "markdown",
   "metadata": {},
   "source": [
    "# Imports "
   ]
  },
  {
   "cell_type": "code",
   "execution_count": null,
   "metadata": {},
   "outputs": [],
   "source": [
    "import numpy as np\n",
    "import pandas as pd"
   ]
  },
  {
   "cell_type": "markdown",
   "metadata": {},
   "source": [
    "# Objetivo:\n",
    "\n",
    "Implementar o **OneHotEncoding**, método muito utilizado em Machine Learning para codificar dados categóricos na forma em que algoritmos de aprendizado de máquina compreendam.\n",
    "\n",
    "Exemplo:\n",
    "\n",
    "```\n",
    "original = pd.Series([\n",
    "    \"classe_1\",\n",
    "    \"classe_1\",\n",
    "    \"classe_2\",\n",
    "    \"classe_2\",\n",
    "    \"classe_1\",\n",
    "    \"classe_2\",\n",
    "])\n",
    "\n",
    "# --- \n",
    "\n",
    "encoded = pd.DataFrame(\n",
    "    columns=[\"classe_1\", \"classe_2\"],\n",
    "    data=[\n",
    "        [1, 0],\n",
    "        [1, 0],\n",
    "        [0, 1],\n",
    "        [0, 1],\n",
    "        [1, 0],\n",
    "        [0, 1]\n",
    "    ]\n",
    "    \n",
    ")\n",
    "\n",
    "```\n"
   ]
  },
  {
   "cell_type": "markdown",
   "metadata": {},
   "source": [
    "# Série Original:\n"
   ]
  },
  {
   "cell_type": "code",
   "execution_count": null,
   "metadata": {},
   "outputs": [],
   "source": [
    "classes = [\"Leite\", \"Ovos\", \"Carne\", \"Arroz\", \"Feijão\"]\n",
    "labels = pd.Series(np.random.choice(classes, 100))"
   ]
  },
  {
   "cell_type": "markdown",
   "metadata": {},
   "source": [
    "# Dataset Codificado:"
   ]
  },
  {
   "cell_type": "code",
   "execution_count": null,
   "metadata": {},
   "outputs": [],
   "source": [
    "\"\"\" Escreva a a Solução Aqui \"\"\""
   ]
  }
 ],
 "metadata": {
  "kernelspec": {
   "display_name": "Python 3",
   "language": "python",
   "name": "python3"
  },
  "language_info": {
   "codemirror_mode": {
    "name": "ipython",
    "version": 3
   },
   "file_extension": ".py",
   "mimetype": "text/x-python",
   "name": "python",
   "nbconvert_exporter": "python",
   "pygments_lexer": "ipython3",
   "version": "3.6.4"
  }
 },
 "nbformat": 4,
 "nbformat_minor": 2
}
